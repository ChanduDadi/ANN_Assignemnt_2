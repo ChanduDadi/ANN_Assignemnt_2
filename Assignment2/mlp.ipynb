{
 "cells": [
  {
   "cell_type": "markdown",
   "id": "c360a2e4-1424-491f-aa32-b61198199fdf",
   "metadata": {},
   "source": [
    "# Assignment 2 - part 1\n",
    "\n",
    "## Feed forward network (multilayer perceptron)\n",
    "\n",
    "In this assignment you shall develop the complete training and evaluation pipeline for a fully connected feed forward network.\n",
    "This shall cover all the stages discussed in the course, starting from data preparation and finishing with model evaluation.\n",
    "You can (you should) use the full functionality of PyTorch and all its packages.\n",
    "\n",
    "You can write most of your code as standard python scripts and packages outside jupyter notebook.\n",
    "The calls to the functionality shall, however, be executed from this notebook (not command-line).\n",
    "All printouts images and comments should be displayed in this notebook.\n",
    "\n",
    "You shall use this framework to train (at least) 3 feed-forward neural networks and compare their performance:\n",
    "- first, use only linear layers and non-linearites of your choice. You shall decide on the depth and width of the layers as well as all other hyperparameters as you see fit.\n",
    "- second, use linear layers, non-linearities and drop-out\n",
    "- third, use linear layers, non-linearities,  drop-out and batch norm\n"
   ]
  },
  {
   "cell_type": "markdown",
   "id": "e6951944-45ef-42db-b0a9-85d4658f5620",
   "metadata": {},
   "source": [
    "### Model training and evaluation\n",
    "\n",
    "Define the function `mlp_train` for training and evaluating an MLP model for classification of **FashionMNIST** data.\n",
    "The function shall be flexible so that it can take in all necessary hyper-parameters for the training. You shall not fix the hyper-parameters in the code of the function itself as fixed values.\n",
    "\n",
    "The `mlp_train` function shall return \n",
    "* the trained model `mlp_model`\n",
    "* anything else you deem important or useful for monitoring purposes etc. "
   ]
  },
  {
   "cell_type": "code",
   "execution_count": 3,
   "id": "a51fe2dc",
   "metadata": {
    "scrolled": true
   },
   "outputs": [
    {
     "name": "stdout",
     "output_type": "stream",
     "text": [
      "Training on: cuda\n",
      "MLP_1(\n",
      "  (model): Sequential(\n",
      "    (0): Linear(in_features=784, out_features=620, bias=True)\n",
      "    (1): ReLU()\n",
      "    (2): Linear(in_features=620, out_features=510, bias=True)\n",
      "    (3): ReLU()\n",
      "    (4): Linear(in_features=510, out_features=440, bias=True)\n",
      "    (5): ReLU()\n",
      "    (6): Linear(in_features=440, out_features=320, bias=True)\n",
      "    (7): ReLU()\n",
      "    (8): Linear(in_features=320, out_features=100, bias=True)\n",
      "    (9): ReLU()\n",
      "    (10): Linear(in_features=100, out_features=10, bias=True)\n",
      "  )\n",
      ")\n",
      "Epoch 1, Loss: 0.6714173635757809, Accuracy: 75.78333333333333%\n",
      "Epoch 2, Loss: 0.4367622143741864, Accuracy: 84.13166666666666%\n",
      "Epoch 3, Loss: 0.3818212791419487, Accuracy: 86.04%\n",
      "Epoch 4, Loss: 0.351624132036718, Accuracy: 87.22833333333334%\n",
      "Epoch 5, Loss: 0.327230337570344, Accuracy: 87.99666666666667%\n",
      "Epoch 6, Loss: 0.3087747705929569, Accuracy: 88.64%\n",
      "Epoch 7, Loss: 0.2921688427437724, Accuracy: 89.13666666666667%\n",
      "Epoch 8, Loss: 0.2791370802692005, Accuracy: 89.71666666666667%\n",
      "Epoch 9, Loss: 0.26528253583416245, Accuracy: 90.21333333333334%\n",
      "Epoch 10, Loss: 0.25172677307304286, Accuracy: 90.65333333333334%\n",
      "Epoch 11, Loss: 0.239990325672413, Accuracy: 91.16833333333334%\n",
      "Epoch 12, Loss: 0.22792168983470784, Accuracy: 91.51166666666667%\n",
      "Epoch 13, Loss: 0.2189013270426915, Accuracy: 91.81%\n",
      "Epoch 14, Loss: 0.20638729122751304, Accuracy: 92.42166666666667%\n",
      "Epoch 15, Loss: 0.196885748220278, Accuracy: 92.73666666666666%\n",
      "Epoch 16, Loss: 0.18908820949844332, Accuracy: 93.04833333333333%\n",
      "Epoch 17, Loss: 0.1793911641459666, Accuracy: 93.48833333333333%\n",
      "Epoch 18, Loss: 0.1714731111610209, Accuracy: 93.68833333333333%\n",
      "Epoch 19, Loss: 0.16178446408234107, Accuracy: 94.02333333333333%\n",
      "Epoch 20, Loss: 0.1514210988050585, Accuracy: 94.32%\n",
      "Epoch 21, Loss: 0.1441827745282097, Accuracy: 94.62833333333333%\n",
      "Epoch 22, Loss: 0.13664083278525485, Accuracy: 94.95833333333333%\n",
      "Epoch 23, Loss: 0.13036886137177442, Accuracy: 95.20833333333333%\n",
      "Epoch 24, Loss: 0.12394162203504969, Accuracy: 95.43%\n",
      "Epoch 25, Loss: 0.11665083232448935, Accuracy: 95.7%\n",
      "Test accuracy: 89.18%\n"
     ]
    }
   ],
   "source": [
    "# define function mlp_train so that it can be run from this cell\n",
    "from mlp import mlp_train, mlp_apply\n",
    "\n",
    "input_size = 28*28\n",
    "hidden_dims = [620,510,440,320,100]  # Example hidden layer sizes including 62 neurons layer\n",
    "batch_size = 64\n",
    "learning_rate = 0.0001\n",
    "epochs = 25\n",
    "\n",
    "# train and evaluate mlp_model\n",
    "mlp_model = mlp_train(1,input_size,learning_rate, batch_size, hidden_dims,epochs)\n",
    "# model: untrained model\n",
    "#print(mlp_model)"
   ]
  },
  {
   "cell_type": "code",
   "execution_count": 5,
   "id": "d531732c-bfe3-4a07-b1ba-3c463143ccdc",
   "metadata": {},
   "outputs": [
    {
     "name": "stdout",
     "output_type": "stream",
     "text": [
      "Training on: cuda\n",
      "MLP_2(\n",
      "  (model): Sequential(\n",
      "    (0): Linear(in_features=784, out_features=620, bias=True)\n",
      "    (1): ReLU()\n",
      "    (2): Dropout(p=0.2, inplace=False)\n",
      "    (3): Linear(in_features=620, out_features=510, bias=True)\n",
      "    (4): ReLU()\n",
      "    (5): Dropout(p=0.2, inplace=False)\n",
      "    (6): Linear(in_features=510, out_features=440, bias=True)\n",
      "    (7): ReLU()\n",
      "    (8): Dropout(p=0.2, inplace=False)\n",
      "    (9): Linear(in_features=440, out_features=320, bias=True)\n",
      "    (10): ReLU()\n",
      "    (11): Dropout(p=0.2, inplace=False)\n",
      "    (12): Linear(in_features=320, out_features=100, bias=True)\n",
      "    (13): ReLU()\n",
      "    (14): Dropout(p=0.2, inplace=False)\n",
      "    (15): Linear(in_features=100, out_features=10, bias=True)\n",
      "  )\n",
      ")\n",
      "Epoch 1, Loss: 0.8020754773606623, Accuracy: 70.53166666666667%\n",
      "Epoch 2, Loss: 0.4871292764158137, Accuracy: 82.66166666666666%\n",
      "Epoch 3, Loss: 0.4247796665440236, Accuracy: 84.885%\n",
      "Epoch 4, Loss: 0.3899501988501437, Accuracy: 86.10833333333333%\n",
      "Epoch 5, Loss: 0.3658557754319741, Accuracy: 86.93%\n",
      "Epoch 6, Loss: 0.34560020293381166, Accuracy: 87.53166666666667%\n",
      "Epoch 7, Loss: 0.3285140356005255, Accuracy: 88.18%\n",
      "Epoch 8, Loss: 0.31804445898259626, Accuracy: 88.535%\n",
      "Epoch 9, Loss: 0.302880543377449, Accuracy: 89.095%\n",
      "Epoch 10, Loss: 0.29256499055892166, Accuracy: 89.55333333333333%\n",
      "Epoch 11, Loss: 0.2823294129516524, Accuracy: 89.87166666666667%\n",
      "Epoch 12, Loss: 0.27361551331463396, Accuracy: 90.18%\n",
      "Epoch 13, Loss: 0.26451703228517126, Accuracy: 90.42166666666667%\n",
      "Epoch 14, Loss: 0.25565756387960936, Accuracy: 90.63%\n",
      "Epoch 15, Loss: 0.24705153302565566, Accuracy: 91.10333333333334%\n",
      "Epoch 16, Loss: 0.24263761488438795, Accuracy: 91.21166666666667%\n",
      "Epoch 17, Loss: 0.23333637704298313, Accuracy: 91.47%\n",
      "Epoch 18, Loss: 0.2274662003810726, Accuracy: 91.65833333333333%\n",
      "Epoch 19, Loss: 0.22279816811908282, Accuracy: 91.885%\n",
      "Epoch 20, Loss: 0.21438871236291648, Accuracy: 92.18166666666667%\n",
      "Epoch 21, Loss: 0.2080079546607316, Accuracy: 92.36666666666666%\n",
      "Epoch 22, Loss: 0.20324431167546111, Accuracy: 92.62166666666667%\n",
      "Epoch 23, Loss: 0.1944155882297358, Accuracy: 92.8%\n",
      "Epoch 24, Loss: 0.19056306870332532, Accuracy: 93.00333333333333%\n",
      "Epoch 25, Loss: 0.18577983490090128, Accuracy: 93.18%\n",
      "Test accuracy: 89.39%\n"
     ]
    }
   ],
   "source": [
    "mlp_model = mlp_train(2,input_size,learning_rate, batch_size, hidden_dims,epochs)\n"
   ]
  },
  {
   "cell_type": "code",
   "execution_count": 6,
   "id": "1a38fe22-be13-481d-a022-dff28ede9c23",
   "metadata": {},
   "outputs": [
    {
     "name": "stdout",
     "output_type": "stream",
     "text": [
      "Training on: cuda\n",
      "MLP_3(\n",
      "  (model): Sequential(\n",
      "    (0): Linear(in_features=784, out_features=620, bias=True)\n",
      "    (1): BatchNorm1d(620, eps=1e-05, momentum=0.1, affine=True, track_running_stats=True)\n",
      "    (2): ReLU()\n",
      "    (3): Dropout(p=0.2, inplace=False)\n",
      "    (4): Linear(in_features=620, out_features=510, bias=True)\n",
      "    (5): BatchNorm1d(510, eps=1e-05, momentum=0.1, affine=True, track_running_stats=True)\n",
      "    (6): ReLU()\n",
      "    (7): Dropout(p=0.2, inplace=False)\n",
      "    (8): Linear(in_features=510, out_features=440, bias=True)\n",
      "    (9): BatchNorm1d(440, eps=1e-05, momentum=0.1, affine=True, track_running_stats=True)\n",
      "    (10): ReLU()\n",
      "    (11): Dropout(p=0.2, inplace=False)\n",
      "    (12): Linear(in_features=440, out_features=320, bias=True)\n",
      "    (13): BatchNorm1d(320, eps=1e-05, momentum=0.1, affine=True, track_running_stats=True)\n",
      "    (14): ReLU()\n",
      "    (15): Dropout(p=0.2, inplace=False)\n",
      "    (16): Linear(in_features=320, out_features=100, bias=True)\n",
      "    (17): BatchNorm1d(100, eps=1e-05, momentum=0.1, affine=True, track_running_stats=True)\n",
      "    (18): ReLU()\n",
      "    (19): Dropout(p=0.2, inplace=False)\n",
      "    (20): Linear(in_features=100, out_features=10, bias=True)\n",
      "  )\n",
      ")\n",
      "Epoch 1, Loss: 0.7641226376043454, Accuracy: 78.25166666666667%\n",
      "Epoch 2, Loss: 0.4422964101025799, Accuracy: 85.39333333333333%\n",
      "Epoch 3, Loss: 0.3842213877133215, Accuracy: 86.845%\n",
      "Epoch 4, Loss: 0.35107007767282317, Accuracy: 87.76%\n",
      "Epoch 5, Loss: 0.3263194315564404, Accuracy: 88.42666666666666%\n",
      "Epoch 6, Loss: 0.31022236720998403, Accuracy: 88.97%\n",
      "Epoch 7, Loss: 0.2964974269588619, Accuracy: 89.495%\n",
      "Epoch 8, Loss: 0.2837276646990512, Accuracy: 89.68666666666667%\n",
      "Epoch 9, Loss: 0.2717402643565811, Accuracy: 90.40166666666667%\n",
      "Epoch 10, Loss: 0.26426358706057707, Accuracy: 90.385%\n",
      "Epoch 11, Loss: 0.2544613982171519, Accuracy: 90.84666666666666%\n",
      "Epoch 12, Loss: 0.24578819254726997, Accuracy: 91.1%\n",
      "Epoch 13, Loss: 0.23566972776882048, Accuracy: 91.50833333333334%\n",
      "Epoch 14, Loss: 0.23020616910462058, Accuracy: 91.74666666666667%\n",
      "Epoch 15, Loss: 0.2227975341207437, Accuracy: 91.95833333333333%\n",
      "Epoch 16, Loss: 0.2158154126669743, Accuracy: 92.29166666666667%\n",
      "Epoch 17, Loss: 0.20883048366286608, Accuracy: 92.42333333333333%\n",
      "Epoch 18, Loss: 0.20368724373151373, Accuracy: 92.63833333333334%\n",
      "Epoch 19, Loss: 0.20001803788501443, Accuracy: 92.83%\n",
      "Epoch 20, Loss: 0.19343361876078888, Accuracy: 92.95833333333333%\n",
      "Epoch 21, Loss: 0.18692605859482847, Accuracy: 93.15666666666667%\n",
      "Epoch 22, Loss: 0.1835077201872111, Accuracy: 93.245%\n",
      "Epoch 23, Loss: 0.1788646392603673, Accuracy: 93.42166666666667%\n",
      "Epoch 24, Loss: 0.17375718099650925, Accuracy: 93.69833333333334%\n",
      "Epoch 25, Loss: 0.16736762221656373, Accuracy: 93.945%\n",
      "Test accuracy: 90.09%\n"
     ]
    }
   ],
   "source": [
    "mlp_model = mlp_train(3,input_size,learning_rate, batch_size, hidden_dims,epochs)"
   ]
  },
  {
   "cell_type": "markdown",
   "id": "3bb0a492-2083-4995-b282-46d719b9313d",
   "metadata": {},
   "source": [
    "### Model application\n",
    "\n",
    "Define a simple utility function `mlp_apply` that uses the train model to classify 10 examples of the test set and displays the 10 images in a grid together with their true and predicted labels."
   ]
  },
  {
   "cell_type": "code",
   "execution_count": 10,
   "id": "decd3420",
   "metadata": {},
   "outputs": [
    {
     "name": "stdout",
     "output_type": "stream",
     "text": [
      "[1163  916 1233 2436  883 9777 2670 1851 6996 8582]\n",
      "Accuracy of the network on the test images: 90 %\n",
      "\n"
     ]
    },
    {
     "data": {
      "image/png": "[encoded data removed]",
      "text/plain": [
       "<Figure size 1200x600 with 10 Axes>"
      ]
     },
     "metadata": {},
     "output_type": "display_data"
    }
   ],
   "source": [
    "import numpy as np\n",
    "# define function mlp_train so that it can be run from this cell\n",
    "from mlp import mlp_apply,test_dataset\n",
    "\n",
    "\n",
    "\n",
    "# user parameters\n",
    "random_images = np.random.randint(1,10000,10)\n",
    "print(random_images) # list of 10 indexes - examples to extract from test set\n",
    "\n",
    "mlp_apply(mlp_model, random_images)"
   ]
  },
  {
   "cell_type": "markdown",
   "id": "fc373f4f-a9a9-4f49-8a90-8537be584453",
   "metadata": {},
   "source": [
    "### Train and apply model\n",
    "\n",
    "Use your functions defined above to train the three models. Try different values of the hyper-paramter settings. You shall achieve at least 80% test accuracy with all your models and at least 90% test accuracy with the best one.\n",
    "\n",
    "Describe briefly your three models and your hyper-parameter setups and comment your results.\n",
    "\n",
    "**Compare the performance of the three models using suitable supportive tables and graphs, and complemented by relevant comments.**"
   ]
  },
  {
   "cell_type": "markdown",
   "id": "56d94172-8cc3-4d07-88ee-470b35757c6d",
   "metadata": {},
   "source": [
    "By trying different hyper parameters we achieved the following accuracies. With only linear and non linear layers we got Test Accuracy of 89.18%, After adding Dropout layer to it we got the Accuracy of 89.39% .we got the **Best Accuracy(90.09%)** in the **Third model** where we added linear, non linear layers along with dropout and BatchNorm layers."
   ]
  },
  {
   "cell_type": "code",
   "execution_count": 11,
   "id": "29d45427-4ace-4f2d-931a-dfbda9733062",
   "metadata": {},
   "outputs": [
    {
     "data": {
      "text/html": [
       "<div>\n",
       "<style scoped>\n",
       "    .dataframe tbody tr th:only-of-type {\n",
       "        vertical-align: middle;\n",
       "    }\n",
       "\n",
       "    .dataframe tbody tr th {\n",
       "        vertical-align: top;\n",
       "    }\n",
       "\n",
       "    .dataframe thead th {\n",
       "        text-align: right;\n",
       "    }\n",
       "</style>\n",
       "<table border=\"1\" class=\"dataframe\">\n",
       "  <thead>\n",
       "    <tr style=\"text-align: right;\">\n",
       "      <th></th>\n",
       "      <th>Model Name</th>\n",
       "      <th>training Accuracy</th>\n",
       "      <th>Test Accuracy</th>\n",
       "    </tr>\n",
       "  </thead>\n",
       "  <tbody>\n",
       "    <tr>\n",
       "      <th>0</th>\n",
       "      <td>Linear</td>\n",
       "      <td>95.70</td>\n",
       "      <td>89.18</td>\n",
       "    </tr>\n",
       "    <tr>\n",
       "      <th>1</th>\n",
       "      <td>Droput</td>\n",
       "      <td>93.18</td>\n",
       "      <td>89.39</td>\n",
       "    </tr>\n",
       "    <tr>\n",
       "      <th>2</th>\n",
       "      <td>BatchNorm</td>\n",
       "      <td>93.94</td>\n",
       "      <td>90.09</td>\n",
       "    </tr>\n",
       "  </tbody>\n",
       "</table>\n",
       "</div>"
      ],
      "text/plain": [
       "  Model Name  training Accuracy  Test Accuracy\n",
       "0     Linear              95.70          89.18\n",
       "1     Droput              93.18          89.39\n",
       "2  BatchNorm              93.94          90.09"
      ]
     },
     "execution_count": 11,
     "metadata": {},
     "output_type": "execute_result"
    }
   ],
   "source": [
    "import pandas as pd \n",
    "results = pd.DataFrame({\"Model Name\":[\"Linear\",\"Droput\",\"BatchNorm\"],\"training Accuracy\":[95.7,93.18,93.94],\n",
    "              \"Test Accuracy\":[89.18,89.39,90.09]})\n",
    "results"
   ]
  },
  {
   "cell_type": "code",
   "execution_count": null,
   "id": "ed296209-a447-42e1-9db1-31da4e75a67c",
   "metadata": {},
   "outputs": [],
   "source": []
  },
  {
   "cell_type": "code",
   "execution_count": null,
   "id": "862a2474-4d83-41c8-be03-4e73a7386043",
   "metadata": {},
   "outputs": [],
   "source": []
  }
 ],
 "metadata": {
  "kernelspec": {
   "display_name": "Python 3 (ipykernel)",
   "language": "python",
   "name": "python3"
  },
  "language_info": {
   "codemirror_mode": {
    "name": "ipython",
    "version": 3
   },
   "file_extension": ".py",
   "mimetype": "text/x-python",
   "name": "python",
   "nbconvert_exporter": "python",
   "pygments_lexer": "ipython3",
   "version": "3.11.7"
  }
 },
 "nbformat": 4,
 "nbformat_minor": 5
}
